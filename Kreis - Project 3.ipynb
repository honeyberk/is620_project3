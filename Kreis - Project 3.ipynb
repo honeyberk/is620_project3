{
 "cells": [
  {
   "cell_type": "code",
   "execution_count": 1,
   "metadata": {
    "collapsed": false
   },
   "outputs": [],
   "source": [
    "import numpy as np\n",
    "from __future__ import division\n",
    "import nltk, re, pprint\n",
    "from nltk import word_tokenize\n"
   ]
  },
  {
   "cell_type": "code",
   "execution_count": 2,
   "metadata": {
    "collapsed": true
   },
   "outputs": [],
   "source": [
    "from nltk.corpus import names\n",
    "labeled_names = ([(name, 'male') for name in names.words('male.txt')] +\n",
    "          [(name, 'female') for name in names.words('female.txt')])"
   ]
  },
  {
   "cell_type": "code",
   "execution_count": 3,
   "metadata": {
    "collapsed": false
   },
   "outputs": [],
   "source": [
    "import random\n",
    "\n",
    "random.shuffle(labeled_names)\n"
   ]
  },
  {
   "cell_type": "code",
   "execution_count": 4,
   "metadata": {
    "collapsed": false
   },
   "outputs": [
    {
     "data": {
      "text/plain": [
       "7944"
      ]
     },
     "execution_count": 4,
     "metadata": {},
     "output_type": "execute_result"
    }
   ],
   "source": [
    "len(labeled_names)"
   ]
  },
  {
   "cell_type": "code",
   "execution_count": 5,
   "metadata": {
    "collapsed": false
   },
   "outputs": [],
   "source": [
    "train_names = labeled_names[1500:]\n",
    "devtest_names = labeled_names[500:1500]\n",
    "test_names = labeled_names[:500]"
   ]
  },
  {
   "cell_type": "code",
   "execution_count": 6,
   "metadata": {
    "collapsed": false
   },
   "outputs": [],
   "source": [
    "def gender_features(word):\n",
    "    return {'suffix1': word[-1:],\n",
    "            'suffix2': word[-2:],\n",
    "            'prefix1': word[:1],\n",
    "            'prefix1': word[:2]}"
   ]
  },
  {
   "cell_type": "code",
   "execution_count": 7,
   "metadata": {
    "collapsed": true
   },
   "outputs": [],
   "source": [
    "train_set = [(gender_features(n), gender) for (n, gender) in train_names]\n",
    "devtest_set = [(gender_features(n), gender) for (n, gender) in devtest_names]\n",
    "test_set = [(gender_features(n), gender) for (n, gender) in test_names]\n"
   ]
  },
  {
   "cell_type": "code",
   "execution_count": 8,
   "metadata": {
    "collapsed": true
   },
   "outputs": [],
   "source": [
    "classifier = nltk.NaiveBayesClassifier.train(train_set)"
   ]
  },
  {
   "cell_type": "code",
   "execution_count": 9,
   "metadata": {
    "collapsed": false
   },
   "outputs": [
    {
     "name": "stdout",
     "output_type": "stream",
     "text": [
      "0.815\n"
     ]
    }
   ],
   "source": [
    "print(nltk.classify.accuracy(classifier, devtest_set))"
   ]
  },
  {
   "cell_type": "code",
   "execution_count": 10,
   "metadata": {
    "collapsed": false
   },
   "outputs": [],
   "source": [
    "errors = []\n",
    "for (name, tag) in devtest_names:\n",
    "    guess = classifier.classify(gender_features(name))\n",
    "    if guess != tag:\n",
    "        errors.append((tag, guess, name))\n",
    "    "
   ]
  },
  {
   "cell_type": "code",
   "execution_count": 11,
   "metadata": {
    "collapsed": false
   },
   "outputs": [
    {
     "name": "stdout",
     "output_type": "stream",
     "text": [
      "correct=female guess=male name=Abbey\n",
      "correct=female guess=male name=Adey\n",
      "correct=female guess=male name=Adrien\n",
      "correct=female guess=male name=Aeriell\n",
      "correct=female guess=male name=Alexis\n",
      "correct=female guess=male name=Anais\n",
      "correct=female guess=male name=Ariel\n",
      "correct=female guess=male name=Bamby\n",
      "correct=female guess=male name=Barbey\n",
      "correct=female guess=male name=Bev\n",
      "correct=female guess=male name=Blondell\n",
      "correct=female guess=male name=Brandais\n",
      "correct=female guess=male name=Brett\n",
      "correct=female guess=male name=Brit\n",
      "correct=female guess=male name=Brook\n",
      "correct=female guess=male name=Calypso\n",
      "correct=female guess=male name=Carol-Jean\n",
      "correct=female guess=male name=Cherish\n",
      "correct=female guess=male name=Christan\n",
      "correct=female guess=male name=Cleo\n",
      "correct=female guess=male name=Cordey\n",
      "correct=female guess=male name=Corey\n",
      "correct=female guess=male name=Courtenay\n",
      "correct=female guess=male name=Cybill\n",
      "correct=female guess=male name=Dael\n",
      "correct=female guess=male name=Damaris\n",
      "correct=female guess=male name=Deb\n",
      "correct=female guess=male name=Debby\n",
      "correct=female guess=male name=Demetris\n",
      "correct=female guess=male name=Dian\n",
      "correct=female guess=male name=Doloritas\n",
      "correct=female guess=male name=Dyan\n",
      "correct=female guess=male name=Ealasaid\n",
      "correct=female guess=male name=Eden\n",
      "correct=female guess=male name=Enid\n",
      "correct=female guess=male name=Eran\n",
      "correct=female guess=male name=Farrand\n",
      "correct=female guess=male name=Frank\n",
      "correct=female guess=male name=Franky\n",
      "correct=female guess=male name=Gabey\n",
      "correct=female guess=male name=Gay\n",
      "correct=female guess=male name=Glad\n",
      "correct=female guess=male name=Goldie\n",
      "correct=female guess=male name=Goldy\n",
      "correct=female guess=male name=Grier\n",
      "correct=female guess=male name=Gus\n",
      "correct=female guess=male name=Haley\n",
      "correct=female guess=male name=Hally\n",
      "correct=female guess=male name=Hannis\n",
      "correct=female guess=male name=Hedy\n",
      "correct=female guess=male name=Helge\n",
      "correct=female guess=male name=Hildagard\n",
      "correct=female guess=male name=Holly\n",
      "correct=female guess=male name=Ike\n",
      "correct=female guess=male name=Imojean\n",
      "correct=female guess=male name=Ines\n",
      "correct=female guess=male name=Iris\n",
      "correct=female guess=male name=Jacklin\n",
      "correct=female guess=male name=Jenny\n",
      "correct=female guess=male name=Joby\n",
      "correct=female guess=male name=Kelley\n",
      "correct=female guess=male name=Laural\n",
      "correct=female guess=male name=Leanor\n",
      "correct=female guess=male name=Lilias\n",
      "correct=female guess=male name=Lois\n",
      "correct=female guess=male name=Mairead\n",
      "correct=female guess=male name=Marget\n",
      "correct=female guess=male name=Marion\n",
      "correct=female guess=male name=May\n",
      "correct=female guess=male name=Meagan\n",
      "correct=female guess=male name=Meaghan\n",
      "correct=female guess=male name=Mellicent\n",
      "correct=female guess=male name=Merrill\n",
      "correct=female guess=male name=Mignon\n",
      "correct=female guess=male name=Mirabel\n",
      "correct=female guess=male name=Modesty\n",
      "correct=female guess=male name=Monah\n",
      "correct=female guess=male name=Nadean\n",
      "correct=female guess=male name=Nan\n",
      "correct=female guess=male name=Nichol\n",
      "correct=female guess=male name=Nicol\n",
      "correct=female guess=male name=Noell\n",
      "correct=female guess=male name=Pauly\n",
      "correct=female guess=male name=Philis\n",
      "correct=female guess=male name=Phylis\n",
      "correct=female guess=male name=Poppy\n",
      "correct=female guess=male name=Renel\n",
      "correct=female guess=male name=Rhiamon\n",
      "correct=female guess=male name=Robby\n",
      "correct=female guess=male name=Rosabel\n",
      "correct=female guess=male name=Row\n",
      "correct=female guess=male name=Roz\n",
      "correct=female guess=male name=Rozalin\n",
      "correct=female guess=male name=Rubie\n",
      "correct=female guess=male name=Ruby\n",
      "correct=female guess=male name=Sara-Ann\n",
      "correct=female guess=male name=Sharron\n",
      "correct=female guess=male name=Shay\n",
      "correct=female guess=male name=Sibley\n",
      "correct=female guess=male name=Sileas\n",
      "correct=female guess=male name=Sydel\n",
      "correct=female guess=male name=Tamiko\n",
      "correct=female guess=male name=Tory\n",
      "correct=female guess=male name=Vivian\n",
      "correct=female guess=male name=Vivyan\n",
      "correct=male guess=female name=Alaa\n",
      "correct=male guess=female name=Ali\n",
      "correct=male guess=female name=Andie\n",
      "correct=male guess=female name=Andre\n",
      "correct=male guess=female name=Antoine\n",
      "correct=male guess=female name=Austen\n",
      "correct=male guess=female name=Boniface\n",
      "correct=male guess=female name=Brady\n",
      "correct=male guess=female name=Carey\n",
      "correct=male guess=female name=Carlyle\n",
      "correct=male guess=female name=Cary\n",
      "correct=male guess=female name=Cass\n",
      "correct=male guess=female name=Cecil\n",
      "correct=male guess=female name=Chance\n",
      "correct=male guess=female name=Chauncey\n",
      "correct=male guess=female name=Clarance\n",
      "correct=male guess=female name=Clyde\n",
      "correct=male guess=female name=Connolly\n",
      "correct=male guess=female name=Cy\n",
      "correct=male guess=female name=Daryle\n",
      "correct=male guess=female name=Dwayne\n",
      "correct=male guess=female name=Eddie\n",
      "correct=male guess=female name=Ellsworth\n",
      "correct=male guess=female name=Emmery\n",
      "correct=male guess=female name=Eugen\n",
      "correct=male guess=female name=Felix\n",
      "correct=male guess=female name=Flynn\n",
      "correct=male guess=female name=Garcia\n",
      "correct=male guess=female name=Gayle\n",
      "correct=male guess=female name=Gerome\n",
      "correct=male guess=female name=Giuseppe\n",
      "correct=male guess=female name=Grove\n",
      "correct=male guess=female name=Gustave\n",
      "correct=male guess=female name=Hercule\n",
      "correct=male guess=female name=Herculie\n",
      "correct=male guess=female name=Jackie\n",
      "correct=male guess=female name=Jake\n",
      "correct=male guess=female name=Jimmie\n",
      "correct=male guess=female name=Johnnie\n",
      "correct=male guess=female name=Jonny\n",
      "correct=male guess=female name=Jordy\n",
      "correct=male guess=female name=Juanita\n",
      "correct=male guess=female name=Kane\n",
      "correct=male guess=female name=Karl\n",
      "correct=male guess=female name=Kenn\n",
      "correct=male guess=female name=Kenny\n",
      "correct=male guess=female name=Kingsley\n",
      "correct=male guess=female name=Kingsly\n",
      "correct=male guess=female name=Krishna\n",
      "correct=male guess=female name=Laurence\n",
      "correct=male guess=female name=Linoel\n",
      "correct=male guess=female name=Marilu\n",
      "correct=male guess=female name=Mel\n",
      "correct=male guess=female name=Melvyn\n",
      "correct=male guess=female name=Merle\n",
      "correct=male guess=female name=Meryl\n",
      "correct=male guess=female name=Mischa\n",
      "correct=male guess=female name=Neddie\n",
      "correct=male guess=female name=Orville\n",
      "correct=male guess=female name=Rene\n",
      "correct=male guess=female name=Richie\n",
      "correct=male guess=female name=Rikki\n",
      "correct=male guess=female name=Rodolphe\n",
      "correct=male guess=female name=Rodrique\n",
      "correct=male guess=female name=Ronny\n",
      "correct=male guess=female name=Royce\n",
      "correct=male guess=female name=Shaun\n",
      "correct=male guess=female name=Shawn\n",
      "correct=male guess=female name=Smitty\n",
      "correct=male guess=female name=Solly\n",
      "correct=male guess=female name=Stacy\n",
      "correct=male guess=female name=Tarrance\n",
      "correct=male guess=female name=Terence\n",
      "correct=male guess=female name=Timothee\n",
      "correct=male guess=female name=Verney\n",
      "correct=male guess=female name=Virgie\n",
      "correct=male guess=female name=Voltaire\n",
      "correct=male guess=female name=Waine\n",
      "correct=male guess=female name=Wayne\n",
      "correct=male guess=female name=Zippy\n"
     ]
    }
   ],
   "source": [
    "for (tag, guess, name) in sorted (errors):\n",
    "    print ('correct={} guess={} name={}'.format(tag, guess, name))"
   ]
  },
  {
   "cell_type": "code",
   "execution_count": 12,
   "metadata": {
    "collapsed": false
   },
   "outputs": [],
   "source": [
    "def vowel_ratio(word):\n",
    "    if len(re.findall(r'[aeiouy]', word))/len(word)>= 0.8:\n",
    "        return \".8+\"\n",
    "    elif len(re.findall(r'[aeiouy]', word))/len(word)>= 0.6:\n",
    "        return \"0.6 - 0.8\"\n",
    "    elif len(re.findall(r'[aeiouy]', word))/len(word)>= 0.4:\n",
    "        return \"0.4 - 0.6\"\n",
    "    elif len(re.findall(r'[aeiouy]', word))/len(word)>= 0.2:\n",
    "        return \"0.2 - 0.4\"\n",
    "    else: \n",
    "        return \"< 0.2\""
   ]
  },
  {
   "cell_type": "markdown",
   "metadata": {},
   "source": [
    "### find the length of the names in our training set to establish what constitute extreme lengths (top 10% or bottom 10%)"
   ]
  },
  {
   "cell_type": "code",
   "execution_count": 13,
   "metadata": {
    "collapsed": false
   },
   "outputs": [],
   "source": [
    "import pandas as pd\n",
    "\n",
    "#create a dataframe\n",
    "names = []\n",
    "for (name, gender) in train_names:\n",
    "    names.append(name)\n",
    "\n",
    "df = pd.DataFrame(names)\n",
    "\n"
   ]
  },
  {
   "cell_type": "code",
   "execution_count": 14,
   "metadata": {
    "collapsed": false
   },
   "outputs": [],
   "source": [
    "#loop through and create a new column\n",
    "length = []\n",
    "for row in df[0]:\n",
    "    length.append(len(row))\n",
    "\n",
    "df['length'] = length\n"
   ]
  },
  {
   "cell_type": "code",
   "execution_count": 15,
   "metadata": {
    "collapsed": false
   },
   "outputs": [
    {
     "name": "stdout",
     "output_type": "stream",
     "text": [
      "length    4\n",
      "dtype: float64 length    8\n",
      "dtype: float64\n"
     ]
    }
   ],
   "source": [
    "top_10p = df.quantile(0.9)\n",
    "bottom_10p = df.quantile(0.1)\n",
    "print bottom_10p, top_10p"
   ]
  },
  {
   "cell_type": "code",
   "execution_count": 16,
   "metadata": {
    "collapsed": false
   },
   "outputs": [],
   "source": [
    "def word_length(word):\n",
    "    if len(word) > 8:\n",
    "        return \">8\"\n",
    "    elif len(word) < 4:\n",
    "        return \"<4\"\n",
    "    else: \n",
    "        return \"4-8\""
   ]
  },
  {
   "cell_type": "code",
   "execution_count": 17,
   "metadata": {
    "collapsed": false
   },
   "outputs": [],
   "source": [
    "def gender_features(word):\n",
    "    return {'vowels' : word_length(word)}\n",
    "\n"
   ]
  },
  {
   "cell_type": "code",
   "execution_count": 18,
   "metadata": {
    "collapsed": true
   },
   "outputs": [],
   "source": [
    "train_set = [(gender_features(n), gender) for (n, gender) in train_names]\n",
    "devtest_set = [(gender_features(n), gender) for (n, gender) in devtest_names]\n",
    "test_set = [(gender_features(n), gender) for (n, gender) in test_names]"
   ]
  },
  {
   "cell_type": "code",
   "execution_count": 19,
   "metadata": {
    "collapsed": false
   },
   "outputs": [
    {
     "name": "stdout",
     "output_type": "stream",
     "text": [
      "0.63\n"
     ]
    }
   ],
   "source": [
    "classifier = nltk.NaiveBayesClassifier.train(train_set)\n",
    "print(nltk.classify.accuracy(classifier, devtest_set))"
   ]
  },
  {
   "cell_type": "code",
   "execution_count": 20,
   "metadata": {
    "collapsed": false
   },
   "outputs": [
    {
     "name": "stdout",
     "output_type": "stream",
     "text": [
      "Most Informative Features\n",
      "                  vowels = '<4'             male : female =      2.0 : 1.0\n",
      "                  vowels = '>8'           female : male   =      1.3 : 1.0\n",
      "                  vowels = '4-8'          female : male   =      1.0 : 1.0\n",
      "None\n"
     ]
    }
   ],
   "source": [
    "#I didn't dfind this to improve the model so it is excluded from below\n",
    "print classifier.show_most_informative_features(5)"
   ]
  },
  {
   "cell_type": "code",
   "execution_count": 21,
   "metadata": {
    "collapsed": true
   },
   "outputs": [],
   "source": [
    "#This was my best model so far\n",
    "\n",
    "def gender_features(word):\n",
    "    return {'suffix1': word[-1:],\n",
    "            'suffix2': word[-2:],\n",
    "            'suffix3': word[-3:],\n",
    "            'prefix1': word[:1],\n",
    "            'prefix2': word[:2],\n",
    "            'prefix3': word[:3],\n",
    "            'vowels' : vowel_ratio(word)}\n",
    "\n",
    "\n"
   ]
  },
  {
   "cell_type": "code",
   "execution_count": 22,
   "metadata": {
    "collapsed": true
   },
   "outputs": [],
   "source": [
    "train_set = [(gender_features(n), gender) for (n, gender) in train_names]\n",
    "devtest_set = [(gender_features(n), gender) for (n, gender) in devtest_names]\n",
    "test_set = [(gender_features(n), gender) for (n, gender) in test_names]"
   ]
  },
  {
   "cell_type": "code",
   "execution_count": 23,
   "metadata": {
    "collapsed": false
   },
   "outputs": [
    {
     "name": "stdout",
     "output_type": "stream",
     "text": [
      "0.848\n"
     ]
    }
   ],
   "source": [
    "classifier = nltk.NaiveBayesClassifier.train(train_set)\n",
    "print(nltk.classify.accuracy(classifier, devtest_set))"
   ]
  },
  {
   "cell_type": "code",
   "execution_count": 24,
   "metadata": {
    "collapsed": false
   },
   "outputs": [
    {
     "name": "stdout",
     "output_type": "stream",
     "text": [
      "Most Informative Features\n",
      "                 suffix2 = u'na'          female : male   =    149.6 : 1.0\n",
      "                 suffix1 = u'k'             male : female =     68.4 : 1.0\n",
      "                 suffix2 = u'la'          female : male   =     65.6 : 1.0\n",
      "                 suffix2 = u'ia'          female : male   =     48.5 : 1.0\n",
      "                 suffix1 = u'a'           female : male   =     41.5 : 1.0\n",
      "                 suffix2 = u'ta'          female : male   =     38.2 : 1.0\n",
      "                 suffix2 = u'us'            male : female =     34.2 : 1.0\n",
      "                 suffix2 = u'ra'          female : male   =     32.6 : 1.0\n",
      "                 suffix3 = u'nne'         female : male   =     30.9 : 1.0\n",
      "                 suffix2 = u'sa'          female : male   =     30.7 : 1.0\n",
      "                 suffix2 = u'rd'            male : female =     28.7 : 1.0\n",
      "                 suffix3 = u'ard'           male : female =     26.2 : 1.0\n",
      "                 suffix2 = u'io'            male : female =     24.9 : 1.0\n",
      "                 suffix3 = u'tta'         female : male   =     21.8 : 1.0\n",
      "                 suffix3 = u'ana'         female : male   =     21.8 : 1.0\n",
      "                 suffix2 = u'ld'            male : female =     19.6 : 1.0\n",
      "                 suffix2 = u'do'            male : female =     19.4 : 1.0\n",
      "                 suffix2 = u'rt'            male : female =     18.7 : 1.0\n",
      "                 prefix3 = u'Dor'         female : male   =     16.9 : 1.0\n",
      "                 suffix2 = u'im'            male : female =     16.0 : 1.0\n",
      "                 suffix2 = u'os'            male : female =     16.0 : 1.0\n",
      "                 suffix3 = u'vin'           male : female =     15.9 : 1.0\n",
      "                 prefix3 = u'Tha'           male : female =     15.0 : 1.0\n",
      "                 suffix1 = u'f'             male : female =     14.6 : 1.0\n",
      "                 suffix2 = u'ea'          female : male   =     13.9 : 1.0\n",
      "                 prefix3 = u'Mel'         female : male   =     13.1 : 1.0\n",
      "                 suffix2 = u'as'            male : female =     13.0 : 1.0\n",
      "                 suffix1 = u'v'             male : female =     13.0 : 1.0\n",
      "                 suffix2 = u'ch'            male : female =     13.0 : 1.0\n",
      "                 suffix3 = u'ene'         female : male   =     12.8 : 1.0\n",
      "                 suffix3 = u'old'           male : female =     12.8 : 1.0\n",
      "                 suffix3 = u'dra'         female : male   =     12.8 : 1.0\n",
      "                 suffix3 = u'ela'         female : male   =     12.8 : 1.0\n",
      "                 suffix2 = u'ka'          female : male   =     11.8 : 1.0\n",
      "                 suffix3 = u'lle'         female : male   =     11.8 : 1.0\n",
      "                 suffix3 = u'ria'         female : male   =     11.5 : 1.0\n",
      "                 suffix2 = u'rn'            male : female =     10.5 : 1.0\n",
      "                 prefix3 = u'Cat'         female : male   =     10.5 : 1.0\n",
      "                 suffix3 = u'ert'           male : female =     10.3 : 1.0\n",
      "                 suffix3 = u'nni'         female : male   =     10.2 : 1.0\n",
      "                 suffix1 = u'd'             male : female =     10.0 : 1.0\n",
      "                 suffix2 = u'ya'          female : male   =      9.8 : 1.0\n",
      "                 suffix1 = u'p'             male : female =      9.8 : 1.0\n",
      "                 suffix3 = u'son'           male : female =      9.8 : 1.0\n",
      "                 prefix2 = u'Tu'            male : female =      9.4 : 1.0\n",
      "                 prefix2 = u'Ya'            male : female =      9.4 : 1.0\n",
      "                 suffix2 = u'ff'            male : female =      9.4 : 1.0\n",
      "                 suffix2 = u'ns'            male : female =      9.4 : 1.0\n",
      "                 suffix2 = u'em'            male : female =      9.4 : 1.0\n",
      "                 prefix2 = u'Ce'          female : male   =      9.4 : 1.0\n",
      "None\n"
     ]
    }
   ],
   "source": [
    "print classifier.show_most_informative_features(50)"
   ]
  },
  {
   "cell_type": "code",
   "execution_count": 25,
   "metadata": {
    "collapsed": false
   },
   "outputs": [
    {
     "name": "stdout",
     "output_type": "stream",
     "text": [
      "correct=female guess=male name=Abbey\n",
      "correct=female guess=male name=Adorne\n",
      "correct=female guess=male name=Adrien\n",
      "correct=female guess=male name=Alexis\n",
      "correct=female guess=male name=Ariel\n",
      "correct=female guess=male name=Bamby\n",
      "correct=female guess=male name=Barbee\n",
      "correct=female guess=male name=Barbey\n",
      "correct=female guess=male name=Berny\n",
      "correct=female guess=male name=Bev\n",
      "correct=female guess=male name=Blondell\n",
      "correct=female guess=male name=Brandais\n",
      "correct=female guess=male name=Brandy\n",
      "correct=female guess=male name=Brett\n",
      "correct=female guess=male name=Brook\n",
      "correct=female guess=male name=Calypso\n",
      "correct=female guess=male name=Cherish\n",
      "correct=female guess=male name=Christan\n",
      "correct=female guess=male name=Clemence\n",
      "correct=female guess=male name=Cleo\n",
      "correct=female guess=male name=Constance\n",
      "correct=female guess=male name=Courtenay\n",
      "correct=female guess=male name=Dael\n",
      "correct=female guess=male name=Damaris\n",
      "correct=female guess=male name=Deb\n",
      "correct=female guess=male name=Del\n",
      "correct=female guess=male name=Demetris\n",
      "correct=female guess=male name=Doloritas\n",
      "correct=female guess=male name=Ealasaid\n",
      "correct=female guess=male name=Eden\n",
      "correct=female guess=male name=Elke\n",
      "correct=female guess=male name=Emmey\n",
      "correct=female guess=male name=Enid\n",
      "correct=female guess=male name=Eran\n",
      "correct=female guess=male name=Farrand\n",
      "correct=female guess=male name=Frank\n",
      "correct=female guess=male name=Franky\n",
      "correct=female guess=male name=Gay\n",
      "correct=female guess=male name=Glad\n",
      "correct=female guess=male name=Grier\n",
      "correct=female guess=male name=Gus\n",
      "correct=female guess=male name=Haley\n",
      "correct=female guess=male name=Hally\n",
      "correct=female guess=male name=Hannis\n",
      "correct=female guess=male name=Hedy\n",
      "correct=female guess=male name=Hephzibah\n",
      "correct=female guess=male name=Hildagard\n",
      "correct=female guess=male name=Ike\n",
      "correct=female guess=male name=Ines\n",
      "correct=female guess=male name=Iris\n",
      "correct=female guess=male name=Konstance\n",
      "correct=female guess=male name=Kyrstin\n",
      "correct=female guess=male name=Lilias\n",
      "correct=female guess=male name=Lin\n",
      "correct=female guess=male name=Lois\n",
      "correct=female guess=male name=Mairead\n",
      "correct=female guess=male name=Marion\n",
      "correct=female guess=male name=Meagan\n",
      "correct=female guess=male name=Meaghan\n",
      "correct=female guess=male name=Mellicent\n",
      "correct=female guess=male name=Merrill\n",
      "correct=female guess=male name=Mignon\n",
      "correct=female guess=male name=Nichol\n",
      "correct=female guess=male name=Nicol\n",
      "correct=female guess=male name=Paula-Grace\n",
      "correct=female guess=male name=Pepi\n",
      "correct=female guess=male name=Philis\n",
      "correct=female guess=male name=Phylis\n",
      "correct=female guess=male name=Poppy\n",
      "correct=female guess=male name=Rhiamon\n",
      "correct=female guess=male name=Robby\n",
      "correct=female guess=male name=Row\n",
      "correct=female guess=male name=Roz\n",
      "correct=female guess=male name=Rubi\n",
      "correct=female guess=male name=Rubie\n",
      "correct=female guess=male name=Ruby\n",
      "correct=female guess=male name=Sharron\n",
      "correct=female guess=male name=Shay\n",
      "correct=female guess=male name=Shelley\n",
      "correct=female guess=male name=Sileas\n",
      "correct=female guess=male name=Sydel\n",
      "correct=female guess=male name=Tory\n",
      "correct=male guess=female name=Alaa\n",
      "correct=male guess=female name=Ali\n",
      "correct=male guess=female name=Andie\n",
      "correct=male guess=female name=Andre\n",
      "correct=male guess=female name=Antoine\n",
      "correct=male guess=female name=Boniface\n",
      "correct=male guess=female name=Brady\n",
      "correct=male guess=female name=Carey\n",
      "correct=male guess=female name=Carlyle\n",
      "correct=male guess=female name=Cary\n",
      "correct=male guess=female name=Cass\n",
      "correct=male guess=female name=Cecil\n",
      "correct=male guess=female name=Chauncey\n",
      "correct=male guess=female name=Chet\n",
      "correct=male guess=female name=Clyde\n",
      "correct=male guess=female name=Connolly\n",
      "correct=male guess=female name=Cy\n",
      "correct=male guess=female name=Daryle\n",
      "correct=male guess=female name=Dean\n",
      "correct=male guess=female name=Dorian\n",
      "correct=male guess=female name=Eddie\n",
      "correct=male guess=female name=Emmit\n",
      "correct=male guess=female name=Eugen\n",
      "correct=male guess=female name=Felix\n",
      "correct=male guess=female name=Flynn\n",
      "correct=male guess=female name=Garcia\n",
      "correct=male guess=female name=Gayle\n",
      "correct=male guess=female name=Gerrit\n",
      "correct=male guess=female name=Giuseppe\n",
      "correct=male guess=female name=Grove\n",
      "correct=male guess=female name=Jackie\n",
      "correct=male guess=female name=Johnnie\n",
      "correct=male guess=female name=Jonny\n",
      "correct=male guess=female name=Jordy\n",
      "correct=male guess=female name=Juanita\n",
      "correct=male guess=female name=Kane\n",
      "correct=male guess=female name=Karl\n",
      "correct=male guess=female name=Keefe\n",
      "correct=male guess=female name=Kenny\n",
      "correct=male guess=female name=Kermit\n",
      "correct=male guess=female name=Kip\n",
      "correct=male guess=female name=Krishna\n",
      "correct=male guess=female name=Kristian\n",
      "correct=male guess=female name=Laurence\n",
      "correct=male guess=female name=Lay\n",
      "correct=male guess=female name=Lesley\n",
      "correct=male guess=female name=Linoel\n",
      "correct=male guess=female name=Lucian\n",
      "correct=male guess=female name=Marilu\n",
      "correct=male guess=female name=Mel\n",
      "correct=male guess=female name=Melvyn\n",
      "correct=male guess=female name=Merle\n",
      "correct=male guess=female name=Meryl\n",
      "correct=male guess=female name=Mischa\n",
      "correct=male guess=female name=Neddie\n",
      "correct=male guess=female name=Odell\n",
      "correct=male guess=female name=Orville\n",
      "correct=male guess=female name=Rene\n",
      "correct=male guess=female name=Richie\n",
      "correct=male guess=female name=Rikki\n",
      "correct=male guess=female name=Ronny\n",
      "correct=male guess=female name=Shaun\n",
      "correct=male guess=female name=Shawn\n",
      "correct=male guess=female name=Sidney\n",
      "correct=male guess=female name=Stacy\n",
      "correct=male guess=female name=Timothee\n",
      "correct=male guess=female name=Verney\n",
      "correct=male guess=female name=Virgie\n",
      "correct=male guess=female name=Voltaire\n",
      "correct=male guess=female name=Zippy\n"
     ]
    }
   ],
   "source": [
    "#error check\n",
    "errors = []\n",
    "for (name, tag) in devtest_names:\n",
    "    guess = classifier.classify(gender_features(name))\n",
    "    if guess != tag:\n",
    "        errors.append((tag, guess, name))\n",
    "        \n",
    "for (tag, guess, name) in sorted (errors):\n",
    "    print ('correct={} guess={} name={}'.format(tag, guess, name))"
   ]
  }
 ],
 "metadata": {
  "anaconda-cloud": {},
  "kernelspec": {
   "display_name": "Python [conda root]",
   "language": "python",
   "name": "conda-root-py"
  },
  "language_info": {
   "codemirror_mode": {
    "name": "ipython",
    "version": 2
   },
   "file_extension": ".py",
   "mimetype": "text/x-python",
   "name": "python",
   "nbconvert_exporter": "python",
   "pygments_lexer": "ipython2",
   "version": "2.7.12"
  }
 },
 "nbformat": 4,
 "nbformat_minor": 0
}
